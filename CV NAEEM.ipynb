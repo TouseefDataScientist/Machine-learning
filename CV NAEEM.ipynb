{
 "cells": [
  {
   "cell_type": "markdown",
   "metadata": {},
   "source": [
    "# Naeem Ullah"
   ]
  },
  {
   "cell_type": "markdown",
   "metadata": {},
   "source": [
    "\n",
    "**rawalpindi**\n",
    "contact us: 051-111-111-111<br>\n",
    "address : 123, main market, rawalpindi<br>\n",
    "distric : rawalpindi<br>\n",
    "state : punjab<br>\n",
    "pin code : 46000<br>\n",
    "<br> \n",
    "\n",
    "---\n",
    "### **Carrier Obj**\n",
    "A good objective for a resume with no experience might be: ``Motivated and eager to learn individual seeking an entry-level position in (industry). Committed to applying strong communication and organizational skills to contribute effectively to (company's\n",
    "<br>\n",
    "\n",
    "----\n",
    "\n",
    "### **Education**\n",
    "\n",
    "##### **BSSE**\n",
    "- Bachelor of Science in Software Engineering, University of Engineering and Technology, Taxila, Pakistan (2015)\n",
    "\n",
    "##### **College**\n",
    "- Intermediate, Fazaia Inter College, PAF Base, Islamabad (2011)\n",
    "\n",
    "##### **School**\n",
    "- Matric, Fazaia Inter College, PAF Base, Islamabad (2009)\n",
    "<br>\n",
    "\n",
    "---\n",
    "\n",
    "### **Skills**\n",
    "- Proficient in MS Office (Word, Excel, PowerPoint, Outlook)\n",
    "- Familiarity with HTML, CSS, and JavaScript\n",
    "- Strong communication and organizational skills\n",
    "- Proficient in MS Office (Word, Excel, PowerPoint, Outlook)\n",
    "<br>\n",
    "\n",
    "---\n",
    "\n",
    "### **Hobbies**\n",
    "- Reading books\n",
    "- Playing cricket\n",
    "- Listening to music\n"
   ]
  },
  {
   "cell_type": "markdown",
   "metadata": {},
   "source": []
  }
 ],
 "metadata": {
  "language_info": {
   "name": "python"
  }
 },
 "nbformat": 4,
 "nbformat_minor": 2
}

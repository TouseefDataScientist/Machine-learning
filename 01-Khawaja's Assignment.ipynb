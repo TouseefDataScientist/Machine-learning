{
 "cells": [
  {
   "cell_type": "markdown",
   "metadata": {},
   "source": [
    "# BABAR NASEER\n",
    "**Email:** kh.babar.naseer@outlook.com\n",
    "#### **Assignment:** Exploring Pandas"
   ]
  },
  {
   "cell_type": "markdown",
   "metadata": {},
   "source": [
    "#### Import Libraries:"
   ]
  },
  {
   "cell_type": "code",
   "execution_count": 32,
   "metadata": {},
   "outputs": [],
   "source": [
    "import pandas as pd\n",
    "import numpy as np\n"
   ]
  },
  {
   "cell_type": "markdown",
   "metadata": {},
   "source": [
    "### Basic Data Structures"
   ]
  },
  {
   "cell_type": "code",
   "execution_count": 33,
   "metadata": {},
   "outputs": [],
   "source": [
    "series = pd.Series([1, 3.4, 51, np.nan, 6, 89])\n"
   ]
  },
  {
   "cell_type": "code",
   "execution_count": 34,
   "metadata": {},
   "outputs": [],
   "source": [
    "date_range = pd.date_range(start=\"2024-01-01\", periods=6)\n"
   ]
  },
  {
   "cell_type": "code",
   "execution_count": 35,
   "metadata": {},
   "outputs": [],
   "source": [
    "df_random = pd.DataFrame(np.random.randn(6, 4), index=date_range, columns=['A', 'B', 'C', 'D'])\n"
   ]
  },
  {
   "cell_type": "code",
   "execution_count": 36,
   "metadata": {},
   "outputs": [],
   "source": [
    "df_mixed = pd.DataFrame({\n",
    "    'A': 1.0,\n",
    "    'B': pd.Timestamp(\"2013-01-02\"),\n",
    "    'C': pd.Series(1, index=list(range(4)), dtype=\"float32\"),\n",
    "    'D': np.array([3] * 4, dtype=\"int32\"),\n",
    "    'E': pd.Categorical([\"test\", \"train\", \"test\", \"train\"]),\n",
    "    'F': \"foo\"\n",
    "})\n"
   ]
  },
  {
   "cell_type": "code",
   "execution_count": 37,
   "metadata": {},
   "outputs": [
    {
     "name": "stdout",
     "output_type": "stream",
     "text": [
      "A          float64\n",
      "B    datetime64[s]\n",
      "C          float32\n",
      "D            int32\n",
      "E         category\n",
      "F           object\n",
      "dtype: object\n"
     ]
    }
   ],
   "source": [
    "print(df_mixed.dtypes)\n"
   ]
  },
  {
   "cell_type": "markdown",
   "metadata": {},
   "source": [
    "### Viewing Data"
   ]
  },
  {
   "cell_type": "code",
   "execution_count": 38,
   "metadata": {},
   "outputs": [
    {
     "name": "stdout",
     "output_type": "stream",
     "text": [
      "                   A         B         C         D\n",
      "2024-01-01 -0.781556  0.180533  0.376384  0.956896\n",
      "2024-01-02  1.064062 -0.845425 -0.026342 -0.185578\n",
      "2024-01-03  2.448547 -0.408963 -0.696748  0.808225\n",
      "2024-01-04 -0.763298  0.039024 -1.537197  1.394768\n",
      "2024-01-05  0.903209  0.621771 -0.593962 -0.538809\n"
     ]
    }
   ],
   "source": [
    "print(df_random.head())\n"
   ]
  },
  {
   "cell_type": "code",
   "execution_count": 39,
   "metadata": {},
   "outputs": [
    {
     "name": "stdout",
     "output_type": "stream",
     "text": [
      "                   A         B         C         D\n",
      "2024-01-04 -0.763298  0.039024 -1.537197  1.394768\n",
      "2024-01-05  0.903209  0.621771 -0.593962 -0.538809\n",
      "2024-01-06 -0.842682  0.889949  0.526960 -1.821900\n"
     ]
    }
   ],
   "source": [
    "print(df_random.tail(3))\n"
   ]
  },
  {
   "cell_type": "code",
   "execution_count": 40,
   "metadata": {},
   "outputs": [
    {
     "name": "stdout",
     "output_type": "stream",
     "text": [
      "Index([0, 1, 2, 3], dtype='int64')\n",
      "Index(['A', 'B', 'C', 'D'], dtype='object')\n"
     ]
    }
   ],
   "source": [
    "print(df_mixed.index)\n",
    "print(df_random.columns)\n"
   ]
  },
  {
   "cell_type": "code",
   "execution_count": 41,
   "metadata": {},
   "outputs": [],
   "source": [
    "numpy_array_random = df_random.to_numpy()\n",
    "numpy_array_mixed = df_mixed.to_numpy()\n"
   ]
  },
  {
   "cell_type": "code",
   "execution_count": 42,
   "metadata": {},
   "outputs": [
    {
     "name": "stdout",
     "output_type": "stream",
     "text": [
      "              A         B         C         D\n",
      "count  6.000000  6.000000  6.000000  6.000000\n",
      "mean   0.338047  0.079482 -0.325151  0.102267\n",
      "std    1.353611  0.641376  0.772908  1.191266\n",
      "min   -0.842682 -0.845425 -1.537197 -1.821900\n",
      "25%   -0.776992 -0.296966 -0.671051 -0.450501\n",
      "50%    0.069956  0.109779 -0.310152  0.311324\n",
      "75%    1.023849  0.511461  0.275703  0.919728\n",
      "max    2.448547  0.889949  0.526960  1.394768\n"
     ]
    }
   ],
   "source": [
    "print(df_random.describe())\n"
   ]
  },
  {
   "cell_type": "code",
   "execution_count": 43,
   "metadata": {},
   "outputs": [
    {
     "name": "stdout",
     "output_type": "stream",
     "text": [
      "   2024-01-01  2024-01-02  2024-01-03  2024-01-04  2024-01-05  2024-01-06\n",
      "A   -0.781556    1.064062    2.448547   -0.763298    0.903209   -0.842682\n",
      "B    0.180533   -0.845425   -0.408963    0.039024    0.621771    0.889949\n",
      "C    0.376384   -0.026342   -0.696748   -1.537197   -0.593962    0.526960\n",
      "D    0.956896   -0.185578    0.808225    1.394768   -0.538809   -1.821900\n"
     ]
    }
   ],
   "source": [
    "df_transposed = df_random.T\n",
    "print(df_transposed)\n"
   ]
  },
  {
   "cell_type": "code",
   "execution_count": 44,
   "metadata": {},
   "outputs": [],
   "source": [
    "sorted_df_by_index = df_random.sort_index(axis=1, ascending=False)\n",
    "sorted_df_by_values = df_random.sort_values(by='B')\n"
   ]
  },
  {
   "cell_type": "markdown",
   "metadata": {},
   "source": [
    "### Data Selection"
   ]
  },
  {
   "cell_type": "code",
   "execution_count": 45,
   "metadata": {},
   "outputs": [],
   "source": [
    "column_A = df_random['A']\n",
    "first_three_rows = df_random.iloc[:3]\n",
    "rows_from_date = df_random['2024-01-02':'2024-01-04']\n"
   ]
  },
  {
   "cell_type": "code",
   "execution_count": 46,
   "metadata": {},
   "outputs": [],
   "source": [
    "data_specific_date = df_random.loc['2024-01-02']\n",
    "rows_for_AB = df_random.loc[:, ['A', 'B']]\n",
    "rows_for_AB_by_date = df_random.loc['2024-01-02':'2024-01-04', ['A', 'B']]\n"
   ]
  },
  {
   "cell_type": "code",
   "execution_count": 47,
   "metadata": {},
   "outputs": [],
   "source": [
    "fourth_row = df_random.iloc[3]\n",
    "rows_4_to_5_columns_0_to_2 = df_random.iloc[3:5, 0:2]\n",
    "rows_positions = df_random.iloc[[1, 2, 4], [0, 2]]\n",
    "rows_2_to_3_all_columns = df_random.iloc[2:4, :]\n",
    "all_rows_columns_2_to_3 = df_random.iloc[:, 2:4]\n"
   ]
  },
  {
   "cell_type": "markdown",
   "metadata": {},
   "source": [
    "### Data Manipulation"
   ]
  },
  {
   "cell_type": "code",
   "execution_count": 48,
   "metadata": {},
   "outputs": [],
   "source": [
    "df_copy = df_random.copy()\n",
    "df_copy['E'] = [\"one\", \"one\", \"two\", \"three\", \"four\", \"three\"]\n"
   ]
  },
  {
   "cell_type": "code",
   "execution_count": 49,
   "metadata": {},
   "outputs": [
    {
     "name": "stdout",
     "output_type": "stream",
     "text": [
      "                A      B      C      D      E\n",
      "2024-01-01  False  False  False  False  False\n",
      "2024-01-02  False  False  False  False  False\n",
      "2024-01-03  False  False  False  False   True\n",
      "2024-01-04  False  False  False  False   True\n"
     ]
    }
   ],
   "source": [
    "reindexed_df = df_random.reindex(date_range[:4])\n",
    "reindexed_df['E'] = [1, 1, np.nan, np.nan]\n",
    "\n",
    "\n",
    "dropped_na_df = reindexed_df.dropna()\n",
    "\n",
    "# Fill missing data\n",
    "filled_na_df = reindexed_df.fillna(5)\n",
    "\n",
    "\n",
    "print(reindexed_df.isna())\n"
   ]
  },
  {
   "cell_type": "code",
   "execution_count": 50,
   "metadata": {},
   "outputs": [],
   "source": [
    "mean_df = df_random.mean()\n",
    "mean_along_axis_1 = df_random.mean(axis=1)\n",
    "shifted_series = pd.Series([1, 3, 5, np.nan, 6, 8], index=df_random.index).shift(2)\n",
    "subtracted_df = df_random.sub(shifted_series, axis=0)\n"
   ]
  },
  {
   "cell_type": "code",
   "execution_count": 51,
   "metadata": {},
   "outputs": [
    {
     "name": "stderr",
     "output_type": "stream",
     "text": [
      "C:\\Users\\pc\\AppData\\Local\\Temp\\ipykernel_12680\\370996104.py:2: FutureWarning: DataFrame.applymap has been deprecated. Use DataFrame.map instead.\n",
      "  df_multiplied = df_random.applymap(lambda x: x * 101.2)\n"
     ]
    }
   ],
   "source": [
    "df_mean_multiplied = df_random.apply(lambda x: x.mean() * 5.6)\n",
    "df_multiplied = df_random.applymap(lambda x: x * 101.2)\n"
   ]
  },
  {
   "cell_type": "markdown",
   "metadata": {},
   "source": [
    "### Miscellaneous"
   ]
  },
  {
   "cell_type": "code",
   "execution_count": 52,
   "metadata": {},
   "outputs": [
    {
     "name": "stdout",
     "output_type": "stream",
     "text": [
      "2    5\n",
      "4    3\n",
      "3    2\n",
      "Name: count, dtype: int64\n"
     ]
    }
   ],
   "source": [
    "random_integers = pd.Series(np.random.randint(0, 7, size=10))\n",
    "print(random_integers.value_counts())\n"
   ]
  },
  {
   "cell_type": "code",
   "execution_count": 53,
   "metadata": {},
   "outputs": [],
   "source": [
    "string_series = pd.Series([\"A\", \"B\", \"C\", \"Aaba\", \"Baca\", np.nan, \"CABA\", \"dog\", \"cat\"])\n",
    "lowercase_series = string_series.str.lower()\n"
   ]
  },
  {
   "cell_type": "markdown",
   "metadata": {},
   "source": [
    "### Merging and Grouping"
   ]
  },
  {
   "cell_type": "code",
   "execution_count": 54,
   "metadata": {},
   "outputs": [],
   "source": [
    "d1 = pd.DataFrame({'key': ['A', 'B', 'C'], 'value': [1, 2, 3]})\n",
    "d2 = pd.DataFrame({'key': ['A', 'B', 'D'], 'value': [4, 5, 6]})\n",
    "merged_df = pd.merge(d1, d2, on='key')\n",
    "\n",
    "d1_multi = pd.DataFrame({'key1': ['A', 'B', 'C'], 'key2': ['K', 'L', 'M'], 'value': [1, 2, 3]})\n",
    "d2_multi = pd.DataFrame({'key1': ['A', 'B', 'D'], 'key2': ['K', 'L', 'N'], 'value': [4, 5, 6]})\n",
    "merged_multi_df = pd.merge(d1_multi, d2_multi, on=['key1', 'key2'])\n"
   ]
  },
  {
   "cell_type": "code",
   "execution_count": 55,
   "metadata": {},
   "outputs": [],
   "source": [
    "df_group = pd.DataFrame({\n",
    "    'Category': ['A', 'A', 'B', 'B'],\n",
    "    'Value': [10, 15, 10, 15]\n",
    "})\n",
    "grouped_df = df_group.groupby('Category').sum()\n",
    "\n",
    "df_group_multi = pd.DataFrame({\n",
    "    'Category': ['A', 'A', 'B', 'B'],\n",
    "    'Subcategory': ['X', 'Y', 'X', 'Y'],\n",
    "    'Value': [10, 15, 10, 15]\n",
    "})\n",
    "grouped_multi_df = df_group_multi.groupby(['Category', 'Subcategory']).sum()\n"
   ]
  },
  {
   "cell_type": "markdown",
   "metadata": {},
   "source": [
    "### Reshaping and Pivot Tables"
   ]
  },
  {
   "cell_type": "code",
   "execution_count": 56,
   "metadata": {},
   "outputs": [],
   "source": [
    "df_reshape = pd.DataFrame({\n",
    "    'A': [1, 2, 3],\n",
    "    'B': [4, 5, 6],\n",
    "    'C': [7, 8, 9]\n",
    "}, index=['one', 'two', 'three'])\n",
    "stacked_df = df_reshape.stack()\n"
   ]
  },
  {
   "cell_type": "code",
   "execution_count": 57,
   "metadata": {},
   "outputs": [],
   "source": [
    "df_pivot = pd.DataFrame({\n",
    "    'Date': pd.date_range(start=\"2024-01-01\", periods=6),\n",
    "    'City': ['A', 'B', 'A', 'B', 'A', 'B'],\n",
    "    'Sales': [100, 200, 150, 250, 130, 270]\n",
    "})\n",
    "pivot_table = df_pivot.pivot_table(values='Sales', index='Date', columns='City', aggfunc='sum')\n"
   ]
  },
  {
   "cell_type": "markdown",
   "metadata": {},
   "source": [
    "### Categorical Data"
   ]
  },
  {
   "cell_type": "code",
   "execution_count": 58,
   "metadata": {},
   "outputs": [
    {
     "name": "stdout",
     "output_type": "stream",
     "text": [
      "   id raw_grade\n",
      "0   1  very bad\n",
      "3   4  very bad\n",
      "1   2       bad\n",
      "2   3       bad\n",
      "raw_grade\n",
      "very bad     2\n",
      "bad          2\n",
      "medium       0\n",
      "good         0\n",
      "very good    0\n",
      "dtype: int64\n"
     ]
    },
    {
     "name": "stderr",
     "output_type": "stream",
     "text": [
      "C:\\Users\\pc\\AppData\\Local\\Temp\\ipykernel_12680\\4037421194.py:18: FutureWarning: The default of observed=False is deprecated and will be changed to True in a future version of pandas. Pass observed=False to retain current behavior or observed=True to adopt the future default and silence this warning.\n",
      "  grouped_categorical = df_categorical.groupby('raw_grade').size()\n"
     ]
    }
   ],
   "source": [
    "df_categorical = pd.DataFrame({\n",
    "    'id': [1, 2, 3, 4],\n",
    "    'raw_grade': ['a', 'b', 'b', 'a']\n",
    "})\n",
    "\n",
    "df_categorical['raw_grade'] = df_categorical['raw_grade'].astype('category')\n",
    "\n",
    "# Correctly rename the categories\n",
    "df_categorical['raw_grade'] = df_categorical['raw_grade'].cat.rename_categories([\"very bad\", \"bad\"])\n",
    "\n",
    "# Set new categories with the correct order\n",
    "df_categorical['raw_grade'] = df_categorical['raw_grade'].cat.set_categories([\"very bad\", \"bad\", \"medium\", \"good\", \"very good\"])\n",
    "\n",
    "# Sort the DataFrame by the grade column\n",
    "df_categorical = df_categorical.sort_values(by='raw_grade')\n",
    "\n",
    "# Group by the grade column and calculate the size of each group\n",
    "grouped_categorical = df_categorical.groupby('raw_grade').size()\n",
    "\n",
    "print(df_categorical)\n",
    "print(grouped_categorical)\n"
   ]
  },
  {
   "cell_type": "code",
   "execution_count": null,
   "metadata": {},
   "outputs": [],
   "source": []
  }
 ],
 "metadata": {
  "kernelspec": {
   "display_name": "Python 3",
   "language": "python",
   "name": "python3"
  },
  "language_info": {
   "codemirror_mode": {
    "name": "ipython",
    "version": 3
   },
   "file_extension": ".py",
   "mimetype": "text/x-python",
   "name": "python",
   "nbconvert_exporter": "python",
   "pygments_lexer": "ipython3",
   "version": "3.13.1"
  }
 },
 "nbformat": 4,
 "nbformat_minor": 2
}
